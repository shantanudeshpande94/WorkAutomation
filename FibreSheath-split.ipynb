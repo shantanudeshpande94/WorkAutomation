{
 "cells": [
  {
   "cell_type": "code",
   "execution_count": 12,
   "metadata": {},
   "outputs": [],
   "source": [
    "import pandas as pd\n",
    "path = 'C:\\\\Users\\\\sdeshpande\\\\Documents\\\\SLD\\\\TPR\\\\'\n",
    "dfs = pd.read_excel(path + 'FibreSheath.xlsx')"
   ]
  },
  {
   "cell_type": "code",
   "execution_count": 13,
   "metadata": {},
   "outputs": [],
   "source": [
    "def nd(df):\n",
    "    my_list = dfs['label'].str[4].unique()\n",
    "    od = dict()\n",
    "    for i in my_list:\n",
    "        od[i] = df[df['label'].str[4] == i]\n",
    "    return od"
   ]
  },
  {
   "cell_type": "code",
   "execution_count": 14,
   "metadata": {},
   "outputs": [],
   "source": [
    "from openpyxl import load_workbook\n",
    "my_dict = nd(dfs)\n",
    "\n",
    "def df_excel(k):\n",
    "    book = load_workbook(path + 'FibreSheath.xlsx')\n",
    "    writer = pd.ExcelWriter(path + 'FibreSheath.xlsx', engine = 'openpyxl')\n",
    "    writer.book = book\n",
    "    my_dict[k].sort_values('label').to_excel(writer, sheet_name = k, index=False)\n",
    "    writer.save()\n",
    "    writer.close()\n",
    "    return None\n",
    "    \n",
    "for k,v in my_dict.items():\n",
    "    df_excel(k)"
   ]
  }
 ],
 "metadata": {
  "kernelspec": {
   "display_name": "Python 3",
   "language": "python",
   "name": "python3"
  },
  "language_info": {
   "codemirror_mode": {
    "name": "ipython",
    "version": 3
   },
   "file_extension": ".py",
   "mimetype": "text/x-python",
   "name": "python",
   "nbconvert_exporter": "python",
   "pygments_lexer": "ipython3",
   "version": "3.7.0"
  }
 },
 "nbformat": 4,
 "nbformat_minor": 4
}
