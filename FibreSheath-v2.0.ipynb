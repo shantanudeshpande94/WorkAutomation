{
 "cells": [
  {
   "cell_type": "code",
   "execution_count": 68,
   "metadata": {},
   "outputs": [],
   "source": [
    "import numpy as np\n",
    "import pandas as pd\n",
    "import os\n",
    "import openpyxl\n",
    "\n",
    "os.chdir('C:\\\\Users\\\\sdeshpande\\\\Desktop\\\\Fibre_sheath')"
   ]
  },
  {
   "cell_type": "code",
   "execution_count": 69,
   "metadata": {},
   "outputs": [],
   "source": [
    "path = 'C:\\\\Users\\\\sdeshpande\\\\Desktop\\\\Fibre_sheath\\\\'\n",
    "fibre_sheath = pd.read_excel(path+'FibreSheath.xlsx')"
   ]
  },
  {
   "cell_type": "code",
   "execution_count": 70,
   "metadata": {},
   "outputs": [],
   "source": [
    "if 'ent_id' in fibre_sheath.columns:\n",
    "    fibre_sheath.drop(['ent_id'], axis=1, inplace=True)\n",
    "    \n",
    "if 'id' in fibre_sheath.columns:\n",
    "    fibre_sheath.drop(['id'], axis=1, inplace=True)\n",
    "    \n",
    "fibre_sheath.columns = ['label','type','calc_length','meas_length','from_','placement','backhaul']"
   ]
  },
  {
   "cell_type": "code",
   "execution_count": 71,
   "metadata": {},
   "outputs": [
    {
     "name": "stderr",
     "output_type": "stream",
     "text": [
      "c:\\users\\sdeshpande\\appdata\\local\\programs\\python\\python37\\lib\\site-packages\\ipykernel_launcher.py:4: DeprecationWarning: Call to deprecated function remove_sheet (Use wb.remove(worksheet) or del wb[sheetname]).\n",
      "  after removing the cwd from sys.path.\n"
     ]
    }
   ],
   "source": [
    "workbook = openpyxl.load_workbook('FibreSheath.xlsx')\n",
    "#std=workbook.get_sheet_by_name('FibreSheath')\n",
    "sheet_obj = workbook.active\n",
    "workbook.remove_sheet(sheet_obj)\n",
    "fibre_sheath.to_excel('FibreSheath.xlsx','FibreSheath', index = False)"
   ]
  },
  {
   "cell_type": "code",
   "execution_count": 72,
   "metadata": {},
   "outputs": [],
   "source": [
    "import openpyxl as xl\n",
    "\n",
    "path1 = path + 'FibreSlack.xlsx'\n",
    "path2 = path + 'FibreSheath.xlsx'\n",
    "\n",
    "wb1 = xl.load_workbook(filename=path1)\n",
    "ws1 = wb1.worksheets[0]\n",
    "\n",
    "wb2 = xl.load_workbook(filename=path2)\n",
    "ws2 = wb2.create_sheet(ws1.title)\n",
    "\n",
    "for row in ws1:\n",
    "    for cell in row:\n",
    "        ws2[cell.coordinate].value = cell.value\n",
    "\n",
    "wb2.save(path2)"
   ]
  },
  {
   "cell_type": "code",
   "execution_count": 73,
   "metadata": {},
   "outputs": [],
   "source": [
    "from openpyxl import load_workbook\n",
    "\n",
    "workbook = load_workbook(filename=path2)\n",
    "fibre_sheath = workbook[\"FibreSheath\"]\n",
    "\n",
    "worksheet_names = workbook.sheetnames\n",
    "fibreslack_sheet = workbook[worksheet_names[1]]\n",
    "fibreslack_sheet.title = 'FibreSlack'\n",
    "workbook.save(\"FibreSheath.xlsx\")"
   ]
  },
  {
   "cell_type": "code",
   "execution_count": 74,
   "metadata": {},
   "outputs": [],
   "source": [
    "from openpyxl.utils import FORMULAE\n",
    "\n",
    "max_rows = fibre_sheath.max_row\n",
    "\n",
    "for row_num in range(2, max_rows+1):\n",
    "    fibre_sheath['H%d'%row_num].value = '=COUNTIF(FibreSlack!B:B, FibreSheath!A%d)'%(row_num)\n",
    "\n",
    "#fibre_sheath['H1'] = 'slack'   \n",
    "fibre_sheath.cell(row=1,column=8).value = fibre_sheath.cell(row=1,column=7).value\n",
    "workbook.save(filename=\"FibreSheath.xlsx\")"
   ]
  },
  {
   "cell_type": "code",
   "execution_count": 75,
   "metadata": {},
   "outputs": [],
   "source": [
    "dfs = pd.read_excel(path + 'FibreSheath.xlsx')\n",
    "\n",
    "def nd(df):\n",
    "    my_list = dfs['label'].str[4].unique()\n",
    "    od = dict()\n",
    "    for i in my_list:\n",
    "        od[i] = df[df['label'].str[4] == i]\n",
    "    return od\n",
    "\n",
    "from openpyxl import load_workbook\n",
    "my_dict = nd(dfs)\n",
    "\n",
    "def df_excel(k):\n",
    "    book = load_workbook(path + 'FibreSheath.xlsx')\n",
    "    writer = pd.ExcelWriter(path + 'FibreSheath.xlsx', engine = 'openpyxl')\n",
    "    writer.book = book\n",
    "    my_dict[k].sort_values('label').to_excel(writer, sheet_name = k, index=False)\n",
    "    writer.save()\n",
    "    writer.close()\n",
    "    return None\n",
    "    \n",
    "for k,v in my_dict.items():\n",
    "    df_excel(k)"
   ]
  },
  {
   "cell_type": "code",
   "execution_count": null,
   "metadata": {},
   "outputs": [],
   "source": []
  }
 ],
 "metadata": {
  "kernelspec": {
   "display_name": "Python 3",
   "language": "python",
   "name": "python3"
  },
  "language_info": {
   "codemirror_mode": {
    "name": "ipython",
    "version": 3
   },
   "file_extension": ".py",
   "mimetype": "text/x-python",
   "name": "python",
   "nbconvert_exporter": "python",
   "pygments_lexer": "ipython3",
   "version": "3.7.0"
  }
 },
 "nbformat": 4,
 "nbformat_minor": 4
}
