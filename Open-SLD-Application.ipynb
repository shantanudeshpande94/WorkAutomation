{
 "cells": [
  {
   "cell_type": "code",
   "execution_count": 62,
   "metadata": {},
   "outputs": [],
   "source": [
    "import os\n",
    "import pyautogui\n",
    "import time\n",
    "\n",
    "os.startfile('C:\\\\Users\\\\sdeshpande\\\\Documents\\\\SLD\\\\V2-NBI_SLD_Builder\\\\NBI_SLD_Builder\\\\Start_sld.vsdm')\n",
    "\n",
    "time.sleep(5)\n",
    "\n",
    "#Build SLD\n",
    "pyautogui.moveTo(1080, 780, duration=0.25)\n",
    "pyautogui.click()\n",
    "\n",
    "time.sleep(2)\n",
    "\n",
    "#Select Splice Closure excel\n",
    "pyautogui.moveTo(1140, 545, duration=0.25)\n",
    "pyautogui.click()\n",
    "time.sleep(1.5)\n",
    "pyautogui.moveTo(885, 387, duration=0.25)\n",
    "pyautogui.click()\n",
    "time.sleep(1.5)\n",
    "pyautogui.moveTo(1359, 752, duration=0.25)\n",
    "pyautogui.click()\n",
    "\n",
    "time.sleep(2)\n",
    "\n",
    "#select fibre sheath excel\n",
    "pyautogui.moveTo(1140, 587, duration=0.25)\n",
    "pyautogui.click()\n",
    "time.sleep(1.5)\n",
    "pyautogui.moveTo(890, 365, duration=0.25)\n",
    "pyautogui.click()\n",
    "time.sleep(1.5)\n",
    "pyautogui.moveTo(1359, 752, duration=0.25)\n",
    "pyautogui.click()\n",
    "time.sleep(1.5)\n",
    "pyautogui.moveTo(1112, 585, duration=0.25)\n",
    "pyautogui.click()\n",
    "time.sleep(1.5)\n",
    "pyautogui.moveTo(1097, 617, duration=0.25)\n",
    "pyautogui.click()\n",
    "\n",
    "time.sleep(2)\n",
    "\n",
    "#OK\n",
    "pyautogui.moveTo(960, 630, duration=0.25)\n",
    "pyautogui.click()\n",
    "\n",
    "time.sleep(2)\n",
    "\n",
    "#warning\n",
    "pyautogui.moveTo(1087, 15, duration=0.25)\n",
    "pyautogui.click()"
   ]
  },
  {
   "cell_type": "code",
   "execution_count": null,
   "metadata": {},
   "outputs": [],
   "source": []
  }
 ],
 "metadata": {
  "kernelspec": {
   "display_name": "Python 3",
   "language": "python",
   "name": "python3"
  },
  "language_info": {
   "codemirror_mode": {
    "name": "ipython",
    "version": 3
   },
   "file_extension": ".py",
   "mimetype": "text/x-python",
   "name": "python",
   "nbconvert_exporter": "python",
   "pygments_lexer": "ipython3",
   "version": "3.7.0"
  }
 },
 "nbformat": 4,
 "nbformat_minor": 4
}
